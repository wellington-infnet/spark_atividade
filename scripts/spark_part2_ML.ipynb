{
  "nbformat": 4,
  "nbformat_minor": 0,
  "metadata": {
    "colab": {
      "provenance": []
    },
    "kernelspec": {
      "name": "python3",
      "display_name": "Python 3"
    },
    "language_info": {
      "name": "python"
    }
  },
  "cells": [
    {
      "cell_type": "code",
      "source": [
        "pip install pyspark"
      ],
      "metadata": {
        "colab": {
          "base_uri": "https://localhost:8080/"
        },
        "id": "y0cWr6t_Lr9y",
        "outputId": "758001ce-35d6-458b-f3ff-1adf8d371358"
      },
      "execution_count": 1,
      "outputs": [
        {
          "output_type": "stream",
          "name": "stdout",
          "text": [
            "Collecting pyspark\n",
            "  Downloading pyspark-3.5.3.tar.gz (317.3 MB)\n",
            "\u001b[2K     \u001b[90m━━━━━━━━━━━━━━━━━━━━━━━━━━━━━━━━━━━━━━━━\u001b[0m \u001b[32m317.3/317.3 MB\u001b[0m \u001b[31m3.4 MB/s\u001b[0m eta \u001b[36m0:00:00\u001b[0m\n",
            "\u001b[?25h  Preparing metadata (setup.py) ... \u001b[?25l\u001b[?25hdone\n",
            "Requirement already satisfied: py4j==0.10.9.7 in /usr/local/lib/python3.10/dist-packages (from pyspark) (0.10.9.7)\n",
            "Building wheels for collected packages: pyspark\n",
            "  Building wheel for pyspark (setup.py) ... \u001b[?25l\u001b[?25hdone\n",
            "  Created wheel for pyspark: filename=pyspark-3.5.3-py2.py3-none-any.whl size=317840625 sha256=4462a157805dd4f3f6c4f0c86e478d6146af266cd0099abab4b7a080bfc744ce\n",
            "  Stored in directory: /root/.cache/pip/wheels/1b/3a/92/28b93e2fbfdbb07509ca4d6f50c5e407f48dce4ddbda69a4ab\n",
            "Successfully built pyspark\n",
            "Installing collected packages: pyspark\n",
            "Successfully installed pyspark-3.5.3\n"
          ]
        }
      ]
    },
    {
      "cell_type": "code",
      "source": [
        "from pyspark.ml.feature import StringIndexer, VectorAssembler\n",
        "from pyspark.ml.classification import RandomForestClassifier\n",
        "from pyspark.ml import Pipeline\n",
        "from pyspark.sql.functions import col, when\n",
        "from pyspark.ml.evaluation import MulticlassClassificationEvaluator\n",
        "from pyspark.sql import Window\n",
        "from pyspark.sql.functions import rank\n",
        "from pyspark.sql import SparkSession"
      ],
      "metadata": {
        "id": "SxlmNl0GabEY"
      },
      "execution_count": 2,
      "outputs": []
    },
    {
      "cell_type": "code",
      "source": [
        "spark = SparkSession.builder.appName(\"Formula1\").getOrCreate()\n",
        "\n",
        "#Carrengando datasets\n",
        "results_df = spark.read.csv(\"/content/results.csv\", header=True, inferSchema=True)\n",
        "races_df = spark.read.csv(\"/content/races.csv\", header=True, inferSchema=True)\n",
        "constructors_df = spark.read.csv(\"/content/constructors.csv\", header=True, inferSchema=True)"
      ],
      "metadata": {
        "id": "s8B3rJmHafiO"
      },
      "execution_count": 67,
      "outputs": []
    },
    {
      "cell_type": "code",
      "source": [
        "#Renomeando colunas existentes em mais de um datasets\n",
        "results_df = results_df.withColumnRenamed(\"time\", \"race_time\") \\\n",
        "                       .withColumnRenamed(\"name\", \"constructor_name\") \\\n",
        "                       .withColumnRenamed(\"url\", \"result_url\")\n",
        "races_df = races_df.withColumnRenamed(\"time\", \"race_start_time\") \\\n",
        "                   .withColumnRenamed(\"name\", \"race_name\") \\\n",
        "                   .withColumnRenamed(\"url\", \"race_url\")"
      ],
      "metadata": {
        "id": "gX3R26Asah8i"
      },
      "execution_count": 68,
      "outputs": []
    },
    {
      "cell_type": "code",
      "source": [
        "#JOIN dos Datasets\n",
        "df = results_df.join(races_df, on=\"raceId\", how=\"inner\") \\\n",
        "               .join(constructors_df, on=\"constructorId\", how=\"inner\")\n",
        "\n",
        "#Classificação por raceId e positionOrder\n",
        "window = Window.partitionBy(\"raceId\").orderBy(\"positionOrder\")\n",
        "\n",
        "df = df.withColumn(\"rank\", rank().over(window))\n",
        "\n",
        "#Iniciando tratamento dos dados\n",
        "#Tratando coluna de milliseconds para um tipo numerico no caso utilizei o float\n",
        "df = df.withColumn(\"milliseconds\", col(\"milliseconds\").cast(\"float\"))\n",
        "#Removendo linhas com valores nulos e para zero\n",
        "df = df.na.drop()\n",
        "df = df.fillna(0)"
      ],
      "metadata": {
        "id": "tEuI8B8nak5z"
      },
      "execution_count": 69,
      "outputs": []
    },
    {
      "cell_type": "code",
      "source": [
        "#Criando colunas de target para predição onde irei tentar prever qual o numero do piloto estará no podium de acordo com o circuito\n",
        "df = df.withColumn(\"target_1st\", when(col(\"rank\") == 1, col(\"number\")).otherwise(0)) \\\n",
        "       .withColumn(\"target_2nd\", when(col(\"rank\") == 2, col(\"number\")).otherwise(0)) \\\n",
        "       .withColumn(\"target_3rd\", when(col(\"rank\") == 3, col(\"number\")).otherwise(0))"
      ],
      "metadata": {
        "id": "9QLxn7DwaoDw"
      },
      "execution_count": 70,
      "outputs": []
    },
    {
      "cell_type": "code",
      "source": [
        "#Filtrando os casos nulos para as colunas targets\n",
        "df = df.filter((col(\"target_1st\").isNotNull()) | (col(\"target_2nd\").isNotNull()) | (col(\"target_3rd\").isNotNull()))"
      ],
      "metadata": {
        "id": "GWLPna3QarZm"
      },
      "execution_count": 71,
      "outputs": []
    },
    {
      "cell_type": "code",
      "source": [
        "#Transformando os valores nulos para zero\n",
        "df = df.fillna(0)"
      ],
      "metadata": {
        "id": "s3Ma58FdgQI4"
      },
      "execution_count": 72,
      "outputs": []
    },
    {
      "cell_type": "code",
      "source": [
        "#Tipando os campos targets para numericos, no caso utilizei tipo inteiro\n",
        "df = df.withColumn(\"target_1st\", col(\"target_1st\").cast(\"int\"))\n",
        "df = df.withColumn(\"target_2nd\", col(\"target_2nd\").cast(\"int\"))\n",
        "df = df.withColumn(\"target_3rd\", col(\"target_3rd\").cast(\"int\"))"
      ],
      "metadata": {
        "id": "BVb22bC0t5-Y"
      },
      "execution_count": 73,
      "outputs": []
    },
    {
      "cell_type": "code",
      "source": [
        "#Foi necessario incluir o filtro para <= 100 pois estava recebendo erro pois os valores de target precisava ser de 0 a 100\n",
        "df = df.filter((col(\"target_1st\") <= 100))\n",
        "df = df.filter((col(\"target_2nd\") <= 100))\n",
        "df = df.filter((col(\"target_3rd\") <= 100))"
      ],
      "metadata": {
        "id": "QvyY-L2muOL8"
      },
      "execution_count": 74,
      "outputs": []
    },
    {
      "cell_type": "code",
      "source": [
        "#Filtrando apenas os dados do pódio, as 3 primeiras posicoes\n",
        "df = df.filter(col(\"rank\") <= 3)"
      ],
      "metadata": {
        "id": "n3_x-mWXatEr"
      },
      "execution_count": 75,
      "outputs": []
    },
    {
      "cell_type": "code",
      "source": [
        "#Filtrando periodo dos ultimos 5 anos\n",
        "df = df.filter((col(\"year\") >= 2019))"
      ],
      "metadata": {
        "id": "bgibuQqgTatE"
      },
      "execution_count": 76,
      "outputs": []
    },
    {
      "cell_type": "code",
      "source": [
        "df.show()"
      ],
      "metadata": {
        "colab": {
          "base_uri": "https://localhost:8080/"
        },
        "id": "PPp4LHy-SqiR",
        "outputId": "3f293624-b014-4e7b-c896-38a8194908a0"
      },
      "execution_count": 77,
      "outputs": [
        {
          "output_type": "stream",
          "name": "stdout",
          "text": [
            "+-------------+------+--------+--------+------+----+--------+------------+-------------+------+----+-----------+------------+----------+----+--------------+---------------+--------+----+-----+---------+--------------------+----------+---------------+--------------------+--------+--------+--------+--------+--------+--------+----------+----------+-----------+-----------+--------------+--------+-----------+--------------------+----------+----------+----------+\n",
            "|constructorId|raceId|resultId|driverId|number|grid|position|positionText|positionOrder|points|laps|  race_time|milliseconds|fastestLap|rank|fastestLapTime|fastestLapSpeed|statusId|year|round|circuitId|           race_name|      date|race_start_time|            race_url|fp1_date|fp1_time|fp2_date|fp2_time|fp3_date|fp3_time|quali_date|quali_time|sprint_date|sprint_time|constructorRef|    name|nationality|                 url|target_1st|target_2nd|target_3rd|\n",
            "+-------------+------+--------+--------+------+----+--------+------------+-------------+------+----+-----------+------------+----------+----+--------------+---------------+--------+----+-----+---------+--------------------+----------+---------------+--------------------+--------+--------+--------+--------+--------+--------+----------+----------+-----------+-----------+--------------+--------+-----------+--------------------+----------+----------+----------+\n",
            "|          131|  1010|   24203|     822|    77|   2|       1|           1|            1|  26.0|  58|1:25:27.325|   5127325.0|        57|   1|      1:25.580|        223.075|       1|2019|    1|        1|Australian Grand ...|2019-03-17|       05:10:00|http://en.wikiped...|      \\N|      \\N|      \\N|      \\N|      \\N|      \\N|        \\N|        \\N|         \\N|         \\N|      mercedes|Mercedes|     German|http://en.wikiped...|        77|         0|         0|\n",
            "|          131|  1010|   24204|       1|    44|   1|       2|           2|            2|  18.0|  58|    +20.886|   5148211.0|        57|   2|      1:26.057|        221.839|       1|2019|    1|        1|Australian Grand ...|2019-03-17|       05:10:00|http://en.wikiped...|      \\N|      \\N|      \\N|      \\N|      \\N|      \\N|        \\N|        \\N|         \\N|         \\N|      mercedes|Mercedes|     German|http://en.wikiped...|         0|        44|         0|\n",
            "|            9|  1010|   24205|     830|    33|   4|       3|           3|            3|  15.0|  58|    +22.520|   5149845.0|        57|   3|      1:26.256|        221.327|       1|2019|    1|        1|Australian Grand ...|2019-03-17|       05:10:00|http://en.wikiped...|      \\N|      \\N|      \\N|      \\N|      \\N|      \\N|        \\N|        \\N|         \\N|         \\N|      red_bull|Red Bull|   Austrian|http://en.wikiped...|         0|         0|        33|\n",
            "|          131|  1011|   24223|       1|    44|   3|       1|           1|            1|  25.0|  57|1:34:21.295|   5661295.0|        36|   1|      1:33.528|        208.314|       1|2019|    2|        3|  Bahrain Grand Prix|2019-03-31|       15:10:00|http://en.wikiped...|      \\N|      \\N|      \\N|      \\N|      \\N|      \\N|        \\N|        \\N|         \\N|         \\N|      mercedes|Mercedes|     German|http://en.wikiped...|        44|         0|         0|\n",
            "|          131|  1011|   24224|     822|    77|   4|       2|           2|            2|  18.0|  57|     +2.980|   5664275.0|        42|   2|      1:34.209|        206.808|       1|2019|    2|        3|  Bahrain Grand Prix|2019-03-31|       15:10:00|http://en.wikiped...|      \\N|      \\N|      \\N|      \\N|      \\N|      \\N|        \\N|        \\N|         \\N|         \\N|      mercedes|Mercedes|     German|http://en.wikiped...|         0|        77|         0|\n",
            "|            6|  1011|   24225|     844|    16|   1|       3|           3|            3|  16.0|  57|     +6.131|   5667426.0|        38|   3|      1:33.411|        208.575|       1|2019|    2|        3|  Bahrain Grand Prix|2019-03-31|       15:10:00|http://en.wikiped...|      \\N|      \\N|      \\N|      \\N|      \\N|      \\N|        \\N|        \\N|         \\N|         \\N|       ferrari| Ferrari|    Italian|http://en.wikiped...|         0|         0|        16|\n",
            "|          131|  1012|   24243|       1|    44|   2|       1|           1|            1|  25.0|  56|1:32:06.350|   5526350.0|        47|   1|      1:35.892|        204.642|       1|2019|    3|       17|  Chinese Grand Prix|2019-04-14|       06:10:00|http://en.wikiped...|      \\N|      \\N|      \\N|      \\N|      \\N|      \\N|        \\N|        \\N|         \\N|         \\N|      mercedes|Mercedes|     German|http://en.wikiped...|        44|         0|         0|\n",
            "|          131|  1012|   24244|     822|    77|   1|       2|           2|            2|  18.0|  56|     +6.552|   5532902.0|        38|   2|      1:34.872|        206.842|       1|2019|    3|       17|  Chinese Grand Prix|2019-04-14|       06:10:00|http://en.wikiped...|      \\N|      \\N|      \\N|      \\N|      \\N|      \\N|        \\N|        \\N|         \\N|         \\N|      mercedes|Mercedes|     German|http://en.wikiped...|         0|        77|         0|\n",
            "|            6|  1012|   24245|      20|     5|   3|       3|           3|            3|  15.0|  56|    +13.774|   5540124.0|        37|   3|      1:34.836|        206.921|       1|2019|    3|       17|  Chinese Grand Prix|2019-04-14|       06:10:00|http://en.wikiped...|      \\N|      \\N|      \\N|      \\N|      \\N|      \\N|        \\N|        \\N|         \\N|         \\N|       ferrari| Ferrari|    Italian|http://en.wikiped...|         0|         0|         5|\n",
            "|          131|  1013|   24263|     822|    77|   1|       1|           1|            1|  25.0|  51|1:31:52.942|   5512942.0|        50|   1|      1:44.024|        207.748|       1|2019|    4|       73|Azerbaijan Grand ...|2019-04-28|       12:10:00|http://en.wikiped...|      \\N|      \\N|      \\N|      \\N|      \\N|      \\N|        \\N|        \\N|         \\N|         \\N|      mercedes|Mercedes|     German|http://en.wikiped...|        77|         0|         0|\n",
            "|          131|  1013|   24264|       1|    44|   2|       2|           2|            2|  18.0|  51|     +1.524|   5514466.0|        48|   2|      1:44.166|        207.465|       1|2019|    4|       73|Azerbaijan Grand ...|2019-04-28|       12:10:00|http://en.wikiped...|      \\N|      \\N|      \\N|      \\N|      \\N|      \\N|        \\N|        \\N|         \\N|         \\N|      mercedes|Mercedes|     German|http://en.wikiped...|         0|        44|         0|\n",
            "|            6|  1013|   24265|      20|     5|   3|       3|           3|            3|  15.0|  51|    +11.739|   5524681.0|        46|   3|      1:44.629|        206.546|       1|2019|    4|       73|Azerbaijan Grand ...|2019-04-28|       12:10:00|http://en.wikiped...|      \\N|      \\N|      \\N|      \\N|      \\N|      \\N|        \\N|        \\N|         \\N|         \\N|       ferrari| Ferrari|    Italian|http://en.wikiped...|         0|         0|         5|\n",
            "|          131|  1014|   24283|       1|    44|   2|       1|           1|            1|  26.0|  66|1:35:50.443|   5750443.0|        54|   1|      1:18.492|        213.499|       1|2019|    5|        4|  Spanish Grand Prix|2019-05-12|       13:10:00|http://en.wikiped...|      \\N|      \\N|      \\N|      \\N|      \\N|      \\N|        \\N|        \\N|         \\N|         \\N|      mercedes|Mercedes|     German|http://en.wikiped...|        44|         0|         0|\n",
            "|          131|  1014|   24284|     822|    77|   1|       2|           2|            2|  18.0|  66|     +4.074|   5754517.0|        55|   2|      1:18.737|        212.835|       1|2019|    5|        4|  Spanish Grand Prix|2019-05-12|       13:10:00|http://en.wikiped...|      \\N|      \\N|      \\N|      \\N|      \\N|      \\N|        \\N|        \\N|         \\N|         \\N|      mercedes|Mercedes|     German|http://en.wikiped...|         0|        77|         0|\n",
            "|            9|  1014|   24285|     830|    33|   4|       3|           3|            3|  15.0|  66|     +7.679|   5758122.0|        57|   3|      1:19.769|        210.081|       1|2019|    5|        4|  Spanish Grand Prix|2019-05-12|       13:10:00|http://en.wikiped...|      \\N|      \\N|      \\N|      \\N|      \\N|      \\N|        \\N|        \\N|         \\N|         \\N|      red_bull|Red Bull|   Austrian|http://en.wikiped...|         0|         0|        33|\n",
            "|          131|  1015|   24306|       1|    44|   1|       1|           1|            1|  25.0|  78|1:43:28.437|   6208437.0|         9|   1|      1:16.167|        157.721|       1|2019|    6|        6|   Monaco Grand Prix|2019-05-26|       13:10:00|http://en.wikiped...|      \\N|      \\N|      \\N|      \\N|      \\N|      \\N|        \\N|        \\N|         \\N|         \\N|      mercedes|Mercedes|     German|http://en.wikiped...|        44|         0|         0|\n",
            "|            6|  1015|   24307|      20|     5|   4|       2|           2|            2|  18.0|  78|     +2.602|   6211039.0|         9|   2|      1:16.277|        157.494|       1|2019|    6|        6|   Monaco Grand Prix|2019-05-26|       13:10:00|http://en.wikiped...|      \\N|      \\N|      \\N|      \\N|      \\N|      \\N|        \\N|        \\N|         \\N|         \\N|       ferrari| Ferrari|    Italian|http://en.wikiped...|         0|         5|         0|\n",
            "|          131|  1015|   24308|     822|    77|   2|       3|           3|            3|  15.0|  78|     +3.162|   6211599.0|        65|   3|      1:15.163|        159.828|       1|2019|    6|        6|   Monaco Grand Prix|2019-05-26|       13:10:00|http://en.wikiped...|      \\N|      \\N|      \\N|      \\N|      \\N|      \\N|        \\N|        \\N|         \\N|         \\N|      mercedes|Mercedes|     German|http://en.wikiped...|         0|         0|        77|\n",
            "|          131|  1016|   24326|       1|    44|   2|       1|           1|            1|  25.0|  70|1:29:07.084|   5347084.0|        62|   1|      1:14.813|        209.851|       1|2019|    7|        7| Canadian Grand Prix|2019-06-09|       18:10:00|http://en.wikiped...|      \\N|      \\N|      \\N|      \\N|      \\N|      \\N|        \\N|        \\N|         \\N|         \\N|      mercedes|Mercedes|     German|http://en.wikiped...|        44|         0|         0|\n",
            "|            6|  1016|   24327|      20|     5|   1|       2|           2|            2|  18.0|  70|     +3.658|   5350742.0|        57|   2|      1:14.875|        209.677|       1|2019|    7|        7| Canadian Grand Prix|2019-06-09|       18:10:00|http://en.wikiped...|      \\N|      \\N|      \\N|      \\N|      \\N|      \\N|        \\N|        \\N|         \\N|         \\N|       ferrari| Ferrari|    Italian|http://en.wikiped...|         0|         5|         0|\n",
            "+-------------+------+--------+--------+------+----+--------+------------+-------------+------+----+-----------+------------+----------+----+--------------+---------------+--------+----+-----+---------+--------------------+----------+---------------+--------------------+--------+--------+--------+--------+--------+--------+----------+----------+-----------+-----------+--------------+--------+-----------+--------------------+----------+----------+----------+\n",
            "only showing top 20 rows\n",
            "\n"
          ]
        }
      ]
    },
    {
      "cell_type": "code",
      "source": [
        "#Indexar colunas categóricas (ex: circuitId, number)\n",
        "indexer_constructor = StringIndexer(inputCol=\"number\", outputCol=\"number_index\")\n",
        "indexer_circuit = StringIndexer(inputCol=\"circuitId\", outputCol=\"circuit_index\")"
      ],
      "metadata": {
        "id": "qegvNm2ZavFe"
      },
      "execution_count": 78,
      "outputs": []
    },
    {
      "cell_type": "code",
      "source": [
        "#VectorAssembler para combinar features\n",
        "assembler = VectorAssembler(\n",
        "    inputCols=[\"grid\", \"laps\", \"milliseconds\", \"circuit_index\"],\n",
        "    outputCol=\"features\"\n",
        ")"
      ],
      "metadata": {
        "id": "lZhAySAravpH"
      },
      "execution_count": 79,
      "outputs": []
    },
    {
      "cell_type": "code",
      "source": [
        "#Modelo RandomForest para prever o 1º lugar, precisei incluir o parametro maxBins=100 pois estava recebendo erro onde ultrapassava maxBins de 32\n",
        "rf_1st = RandomForestClassifier(featuresCol=\"features\", labelCol=\"target_1st\", predictionCol=\"prediction_1st\", maxBins=100)"
      ],
      "metadata": {
        "id": "j4PNP_jAayJ5"
      },
      "execution_count": 80,
      "outputs": []
    },
    {
      "cell_type": "code",
      "source": [
        "#Criando o Pipeline\n",
        "pipeline = Pipeline(stages=[indexer_constructor, indexer_circuit, assembler, rf_1st])"
      ],
      "metadata": {
        "id": "TkCJ7ZG3a1RV"
      },
      "execution_count": 81,
      "outputs": []
    },
    {
      "cell_type": "code",
      "source": [
        "#Dividindo os dados em treino e teste 80% e 20%\n",
        "train_data, test_data = df.randomSplit([0.8, 0.2], seed=42)"
      ],
      "metadata": {
        "id": "Fk7V6dyNa4La"
      },
      "execution_count": 82,
      "outputs": []
    },
    {
      "cell_type": "code",
      "source": [
        "#Treinando o modelo\n",
        "model_1st = pipeline.fit(train_data)"
      ],
      "metadata": {
        "id": "WAcThvpRa47W"
      },
      "execution_count": 83,
      "outputs": []
    },
    {
      "cell_type": "code",
      "source": [
        "#Realizando previsões baseado no treinamento do modelo\n",
        "predictions_1st = model_1st.transform(test_data)"
      ],
      "metadata": {
        "id": "CgB5XsRja6Z0"
      },
      "execution_count": 84,
      "outputs": []
    },
    {
      "cell_type": "code",
      "source": [
        "#Avaliando o modelo usando precisão para 1º lugar\n",
        "evaluator = MulticlassClassificationEvaluator(labelCol=\"target_1st\", predictionCol=\"prediction_1st\", metricName=\"accuracy\")\n",
        "accuracy_1st = evaluator.evaluate(predictions_1st)\n",
        "print(f\"Precisao do modelo para previsao do 1st lugar: {accuracy_1st}\")"
      ],
      "metadata": {
        "colab": {
          "base_uri": "https://localhost:8080/"
        },
        "id": "OkosisFRa7im",
        "outputId": "07dcaba0-2bad-49d3-cf20-d78d0acb9974"
      },
      "execution_count": 85,
      "outputs": [
        {
          "output_type": "stream",
          "name": "stdout",
          "text": [
            "Precisao do modelo para previsao do 1st lugar: 0.7222222222222222\n"
          ]
        }
      ]
    },
    {
      "cell_type": "markdown",
      "source": [
        "# Previsao para 2nd lugar"
      ],
      "metadata": {
        "id": "HpWbjO1Lu2Nr"
      }
    },
    {
      "cell_type": "code",
      "source": [
        "#Modelo RandomForest para prever o 2º lugar\n",
        "rf_2nd = RandomForestClassifier(featuresCol=\"features\", labelCol=\"target_2nd\", predictionCol=\"prediction_2nd\", maxBins=100)"
      ],
      "metadata": {
        "id": "ktIe5KYSu5EE"
      },
      "execution_count": 86,
      "outputs": []
    },
    {
      "cell_type": "code",
      "source": [
        "#Criando o Pipeline para prever o 2º lugar\n",
        "pipeline_2nd = Pipeline(stages=[indexer_constructor, indexer_circuit, assembler, rf_2nd])"
      ],
      "metadata": {
        "id": "zWAW2q6FvnkS"
      },
      "execution_count": 87,
      "outputs": []
    },
    {
      "cell_type": "code",
      "source": [
        "#Dividindo os dados em treino e teste 80% e 20%\n",
        "train_data_2nd, test_data_2nd = df.randomSplit([0.8, 0.2], seed=42)"
      ],
      "metadata": {
        "id": "wU2lidD5vv_5"
      },
      "execution_count": 88,
      "outputs": []
    },
    {
      "cell_type": "code",
      "source": [
        "#Treinando o modelo\n",
        "model_2nd = pipeline_2nd.fit(train_data_2nd)"
      ],
      "metadata": {
        "id": "wFDbBWUzv0Ws"
      },
      "execution_count": 89,
      "outputs": []
    },
    {
      "cell_type": "code",
      "source": [
        "#Realizando previsões baseado no treinamento do modelo\n",
        "predictions_2nd = model_2nd.transform(test_data_2nd)"
      ],
      "metadata": {
        "id": "8crX8IJev4Ae"
      },
      "execution_count": 90,
      "outputs": []
    },
    {
      "cell_type": "code",
      "source": [
        "#Avaliando o modelo usando precisão para 2º lugar\n",
        "evaluator_2nd = MulticlassClassificationEvaluator(labelCol=\"target_2nd\", predictionCol=\"prediction_2nd\", metricName=\"accuracy\")\n",
        "accuracy_2nd = evaluator_2nd.evaluate(predictions_2nd)\n",
        "print(f\"Precisao do modelo para previsao do 2nd lugar: {accuracy_2nd}\")\n"
      ],
      "metadata": {
        "colab": {
          "base_uri": "https://localhost:8080/"
        },
        "id": "N3xYfTr9v67V",
        "outputId": "396ae029-960c-468b-e58f-885ca9e5dbc2"
      },
      "execution_count": 91,
      "outputs": [
        {
          "output_type": "stream",
          "name": "stdout",
          "text": [
            "Precisao do modelo para previsao do 2nd lugar: 0.7037037037037037\n"
          ]
        }
      ]
    },
    {
      "cell_type": "markdown",
      "source": [
        "# Previsao para 3rd lugar"
      ],
      "metadata": {
        "id": "fFcUDAePwnlL"
      }
    },
    {
      "cell_type": "code",
      "source": [
        "#Modelo RandomForest para prever o 3º lugar\n",
        "rf_3rd = RandomForestClassifier(featuresCol=\"features\", labelCol=\"target_3rd\", predictionCol=\"prediction_3rd\", maxBins=100)"
      ],
      "metadata": {
        "id": "w5U-s9PR0LSs"
      },
      "execution_count": 92,
      "outputs": []
    },
    {
      "cell_type": "code",
      "source": [
        "#Criando o Pipeline\n",
        "pipeline_3rd = Pipeline(stages=[indexer_constructor, indexer_circuit, assembler, rf_3rd])"
      ],
      "metadata": {
        "id": "N4xP8HAu0NZ-"
      },
      "execution_count": 93,
      "outputs": []
    },
    {
      "cell_type": "code",
      "source": [
        "#Dividindo os dados em treino e teste 80% e 20%\n",
        "train_data_3rd, test_data_3rd = df.randomSplit([0.8, 0.2], seed=42)"
      ],
      "metadata": {
        "id": "MzmNYz8n0Omm"
      },
      "execution_count": 94,
      "outputs": []
    },
    {
      "cell_type": "code",
      "source": [
        "#Treinando o modelo\n",
        "model_3rd = pipeline_3rd.fit(train_data_3rd)"
      ],
      "metadata": {
        "id": "KuvQ6t6y0QUo"
      },
      "execution_count": 95,
      "outputs": []
    },
    {
      "cell_type": "code",
      "source": [
        "#Realizando previsões baseado no treinamento do modelo\n",
        "predictions_3rd = model_3rd.transform(test_data_3rd)"
      ],
      "metadata": {
        "id": "XfLonJN_0RW9"
      },
      "execution_count": 96,
      "outputs": []
    },
    {
      "cell_type": "code",
      "source": [
        "#Avaliando o modelo usando precisão para 3º lugar\n",
        "evaluator_3rd = MulticlassClassificationEvaluator(labelCol=\"target_3rd\", predictionCol=\"prediction_3rd\", metricName=\"accuracy\")\n",
        "accuracy_3rd = evaluator_3rd.evaluate(predictions_3rd)\n",
        "print(f\"Precisao do modelo para previsao do 3rd lugar: {accuracy_3rd}\")\n"
      ],
      "metadata": {
        "colab": {
          "base_uri": "https://localhost:8080/"
        },
        "id": "HSK64yZy0Sjy",
        "outputId": "7b26e05c-3262-4632-e8b7-efa4596f4688"
      },
      "execution_count": 97,
      "outputs": [
        {
          "output_type": "stream",
          "name": "stdout",
          "text": [
            "Precisao do modelo para previsao do 3rd lugar: 0.6111111111111112\n"
          ]
        }
      ]
    }
  ]
}