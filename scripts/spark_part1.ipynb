{
  "nbformat": 4,
  "nbformat_minor": 0,
  "metadata": {
    "colab": {
      "provenance": []
    },
    "kernelspec": {
      "name": "python3",
      "display_name": "Python 3"
    },
    "language_info": {
      "name": "python"
    }
  },
  "cells": [
    {
      "cell_type": "code",
      "execution_count": 1,
      "metadata": {
        "colab": {
          "base_uri": "https://localhost:8080/"
        },
        "id": "PUFMElQZTRiG",
        "outputId": "fff600fe-0aca-459c-ffed-77b91ffee833"
      },
      "outputs": [
        {
          "output_type": "stream",
          "name": "stdout",
          "text": [
            "Requirement already satisfied: pyspark in /usr/local/lib/python3.10/dist-packages (3.5.2)\n",
            "Requirement already satisfied: py4j==0.10.9.7 in /usr/local/lib/python3.10/dist-packages (from pyspark) (0.10.9.7)\n"
          ]
        }
      ],
      "source": [
        "pip install pyspark"
      ]
    },
    {
      "cell_type": "code",
      "source": [
        "import pyspark\n",
        "from pyspark.sql import SparkSession\n",
        "from pyspark.sql.types import StructType,StructField, StringType, IntegerType, ArrayType, DoubleType, BooleanType\n",
        "from pyspark.sql import functions as F\n",
        "from datetime import datetime"
      ],
      "metadata": {
        "id": "ByIq6GASVkIW"
      },
      "execution_count": 2,
      "outputs": []
    },
    {
      "cell_type": "code",
      "source": [
        "def create_spark_session():\n",
        "    spark = SparkSession.builder.appName('Formula1').getOrCreate()\n",
        "    return spark"
      ],
      "metadata": {
        "id": "EjBy4nF1VukV"
      },
      "execution_count": 3,
      "outputs": []
    },
    {
      "cell_type": "code",
      "source": [
        "spark_circuits = create_spark_session()\n",
        "df_circuits = spark_circuits.read.csv('/content/circuits.csv', header=True, inferSchema=True)\n"
      ],
      "metadata": {
        "id": "Kx3ru_SfV5O9"
      },
      "execution_count": 4,
      "outputs": []
    },
    {
      "cell_type": "code",
      "source": [
        "spark_races = create_spark_session()\n",
        "df_races = spark_races.read.csv('/content/races.csv', header=True, inferSchema=True)"
      ],
      "metadata": {
        "id": "FeMDVS3TW4A7"
      },
      "execution_count": 5,
      "outputs": []
    },
    {
      "cell_type": "code",
      "source": [
        "spark_results = create_spark_session()\n",
        "df_results = spark_results.read.csv('/content/results.csv', header=True, inferSchema=True)"
      ],
      "metadata": {
        "id": "qzOpedvTWoEz"
      },
      "execution_count": 6,
      "outputs": []
    },
    {
      "cell_type": "code",
      "source": [
        "spark_drivers = create_spark_session()\n",
        "df_drivers = spark_drivers.read.csv('/content/drivers.csv', header=True, inferSchema=True)"
      ],
      "metadata": {
        "id": "IVI-KpFhXNSL"
      },
      "execution_count": 7,
      "outputs": []
    },
    {
      "cell_type": "code",
      "source": [
        "spark_constructors = create_spark_session()\n",
        "df_constructors = spark_constructors.read.csv('/content/constructors.csv', header=True, inferSchema=True)"
      ],
      "metadata": {
        "id": "lsFT4j56XPiy"
      },
      "execution_count": 8,
      "outputs": []
    },
    {
      "cell_type": "code",
      "source": [
        "spark_qualifying = create_spark_session()\n",
        "df_qualifying = spark_qualifying.read.csv('/content/qualifying.csv', header=True, inferSchema=True)\n"
      ],
      "metadata": {
        "id": "NSAhhor7XXH8"
      },
      "execution_count": 9,
      "outputs": []
    },
    {
      "cell_type": "code",
      "source": [
        "print('circuits')\n",
        "df_circuits.printSchema()\n",
        "print('races')\n",
        "df_races.printSchema()\n",
        "print('results')\n",
        "df_results.printSchema()\n",
        "print('drivers')\n",
        "df_drivers.printSchema()\n",
        "print('constructors')\n",
        "df_constructors.printSchema()\n",
        "print('qualifying')\n",
        "df_qualifying.printSchema()"
      ],
      "metadata": {
        "colab": {
          "base_uri": "https://localhost:8080/"
        },
        "id": "0G2a6JJZhapb",
        "outputId": "5ada7233-62b7-4799-ab78-12c732ca5b3a"
      },
      "execution_count": 10,
      "outputs": [
        {
          "output_type": "stream",
          "name": "stdout",
          "text": [
            "circuits\n",
            "root\n",
            " |-- circuitId: integer (nullable = true)\n",
            " |-- circuitRef: string (nullable = true)\n",
            " |-- name: string (nullable = true)\n",
            " |-- location: string (nullable = true)\n",
            " |-- country: string (nullable = true)\n",
            " |-- lat: double (nullable = true)\n",
            " |-- lng: double (nullable = true)\n",
            " |-- alt: integer (nullable = true)\n",
            " |-- url: string (nullable = true)\n",
            "\n",
            "races\n",
            "root\n",
            " |-- raceId: integer (nullable = true)\n",
            " |-- year: integer (nullable = true)\n",
            " |-- round: integer (nullable = true)\n",
            " |-- circuitId: integer (nullable = true)\n",
            " |-- name: string (nullable = true)\n",
            " |-- date: date (nullable = true)\n",
            " |-- time: string (nullable = true)\n",
            " |-- url: string (nullable = true)\n",
            " |-- fp1_date: string (nullable = true)\n",
            " |-- fp1_time: string (nullable = true)\n",
            " |-- fp2_date: string (nullable = true)\n",
            " |-- fp2_time: string (nullable = true)\n",
            " |-- fp3_date: string (nullable = true)\n",
            " |-- fp3_time: string (nullable = true)\n",
            " |-- quali_date: string (nullable = true)\n",
            " |-- quali_time: string (nullable = true)\n",
            " |-- sprint_date: string (nullable = true)\n",
            " |-- sprint_time: string (nullable = true)\n",
            "\n",
            "results\n",
            "root\n",
            " |-- resultId: integer (nullable = true)\n",
            " |-- raceId: integer (nullable = true)\n",
            " |-- driverId: integer (nullable = true)\n",
            " |-- constructorId: integer (nullable = true)\n",
            " |-- number: string (nullable = true)\n",
            " |-- grid: integer (nullable = true)\n",
            " |-- position: string (nullable = true)\n",
            " |-- positionText: string (nullable = true)\n",
            " |-- positionOrder: integer (nullable = true)\n",
            " |-- points: double (nullable = true)\n",
            " |-- laps: integer (nullable = true)\n",
            " |-- time: string (nullable = true)\n",
            " |-- milliseconds: string (nullable = true)\n",
            " |-- fastestLap: string (nullable = true)\n",
            " |-- rank: string (nullable = true)\n",
            " |-- fastestLapTime: string (nullable = true)\n",
            " |-- fastestLapSpeed: string (nullable = true)\n",
            " |-- statusId: integer (nullable = true)\n",
            "\n",
            "drivers\n",
            "root\n",
            " |-- driverId: integer (nullable = true)\n",
            " |-- driverRef: string (nullable = true)\n",
            " |-- number: string (nullable = true)\n",
            " |-- code: string (nullable = true)\n",
            " |-- forename: string (nullable = true)\n",
            " |-- surname: string (nullable = true)\n",
            " |-- dob: date (nullable = true)\n",
            " |-- nationality: string (nullable = true)\n",
            " |-- url: string (nullable = true)\n",
            "\n",
            "constructors\n",
            "root\n",
            " |-- constructorId: integer (nullable = true)\n",
            " |-- constructorRef: string (nullable = true)\n",
            " |-- name: string (nullable = true)\n",
            " |-- nationality: string (nullable = true)\n",
            " |-- url: string (nullable = true)\n",
            "\n",
            "qualifying\n",
            "root\n",
            " |-- qualifyId: integer (nullable = true)\n",
            " |-- raceId: integer (nullable = true)\n",
            " |-- driverId: integer (nullable = true)\n",
            " |-- constructorId: integer (nullable = true)\n",
            " |-- number: integer (nullable = true)\n",
            " |-- position: integer (nullable = true)\n",
            " |-- q1: string (nullable = true)\n",
            " |-- q2: string (nullable = true)\n",
            " |-- q3: string (nullable = true)\n",
            "\n"
          ]
        }
      ]
    },
    {
      "cell_type": "markdown",
      "source": [
        "1. Qual equipe teve o maior número de vitórias em cada temporada nos últimos 5 nos?"
      ],
      "metadata": {
        "id": "qbFydRtnglFw"
      }
    },
    {
      "cell_type": "code",
      "source": [
        "# PRIMEIRA QUESTAO DE NEGOCIO\n",
        "current_year = datetime.now().year\n",
        "\n",
        "last_five_races = df_races.filter(F.col('year') >= current_year - 5)\n",
        "\n",
        "join_df = last_five_races.alias('r').join(df_results.alias('res'), F.col('r.raceId') == F.col('res.raceId')).join(df_constructors.alias('c'), F.col('res.constructorId') == F.col('c.constructorId'))\n",
        "\n",
        "winners_df = join_df.filter(F.col('position') == 1)\n",
        "\n",
        "group_df = winners_df.groupBy('r.year', 'c.name').agg(F.count('*').alias('wins'))\n",
        "\n",
        "result_df = group_df.orderBy(F.col('year').asc(), F.col('wins').desc())\n",
        "\n",
        "result_df.show()"
      ],
      "metadata": {
        "colab": {
          "base_uri": "https://localhost:8080/"
        },
        "id": "ScCbfYLwXbrE",
        "outputId": "d8eb834b-e39e-4c42-eb2e-59cead8317d7"
      },
      "execution_count": 11,
      "outputs": [
        {
          "output_type": "stream",
          "name": "stdout",
          "text": [
            "+----+--------------+----+\n",
            "|year|          name|wins|\n",
            "+----+--------------+----+\n",
            "|2019|      Mercedes|  15|\n",
            "|2019|       Ferrari|   3|\n",
            "|2019|      Red Bull|   3|\n",
            "|2020|      Mercedes|  13|\n",
            "|2020|      Red Bull|   2|\n",
            "|2020|    AlphaTauri|   1|\n",
            "|2020|  Racing Point|   1|\n",
            "|2021|      Red Bull|  11|\n",
            "|2021|      Mercedes|   9|\n",
            "|2021|       McLaren|   1|\n",
            "|2021|Alpine F1 Team|   1|\n",
            "|2022|      Red Bull|  17|\n",
            "|2022|       Ferrari|   4|\n",
            "|2022|      Mercedes|   1|\n",
            "|2023|      Red Bull|  21|\n",
            "|2023|       Ferrari|   1|\n",
            "|2024|      Red Bull|   7|\n",
            "|2024|       McLaren|   2|\n",
            "|2024|       Ferrari|   2|\n",
            "|2024|      Mercedes|   2|\n",
            "+----+--------------+----+\n",
            "\n"
          ]
        }
      ]
    },
    {
      "cell_type": "markdown",
      "source": [
        "2.Qual piloto acumulou o maior número de voltas mais rápidas em corridas desde o ano 2000?"
      ],
      "metadata": {
        "id": "ALCPrMP4g21m"
      }
    },
    {
      "cell_type": "code",
      "source": [
        "join_df = df_results.alias('res') \\\n",
        "    .join(df_drivers.alias('d'), F.col('res.driverId') == F.col('d.driverId')) \\\n",
        "    .join(df_races.alias('r'), (F.col('res.raceId') == F.col('r.raceId')) & (F.col('r.year') >= 2000))\n",
        "\n",
        "fastest_laps_df = join_df.filter(F.col('res.rank') == 1)\n",
        "\n",
        "group_df = fastest_laps_df.groupBy('d.driverRef').agg(F.count('*').alias('fastest_laps'))\n",
        "\n",
        "result_df = group_df.orderBy(F.col('fastest_laps').desc()).limit(1)\n",
        "\n",
        "result_df.show()"
      ],
      "metadata": {
        "colab": {
          "base_uri": "https://localhost:8080/"
        },
        "id": "y6OWEPlZgycH",
        "outputId": "c00691c6-7054-452d-92d9-c20631c0a199"
      },
      "execution_count": 12,
      "outputs": [
        {
          "output_type": "stream",
          "name": "stdout",
          "text": [
            "+---------+------------+\n",
            "|driverRef|fastest_laps|\n",
            "+---------+------------+\n",
            "| hamilton|          66|\n",
            "+---------+------------+\n",
            "\n"
          ]
        }
      ]
    },
    {
      "cell_type": "markdown",
      "source": [
        "3. Qual foi o piloto que mais vezes conquistou uma posição no pódio?"
      ],
      "metadata": {
        "id": "bgmHhmuIi-wL"
      }
    },
    {
      "cell_type": "code",
      "source": [
        "joined_df = df_drivers.alias('d') \\\n",
        "    .join(df_results.alias('res'), F.col('d.driverId') == F.col('res.driverId'))\n",
        "\n",
        "podium_df = joined_df.filter(F.col('res.position') <= 3)\n",
        "\n",
        "grouped_df = podium_df.groupBy('d.forename', 'd.surname').agg(F.count('*').alias('podiums'))\n",
        "\n",
        "result_df = grouped_df.orderBy(F.col('podiums').desc()).limit(1)\n",
        "\n",
        "result_df.show()"
      ],
      "metadata": {
        "colab": {
          "base_uri": "https://localhost:8080/"
        },
        "id": "OcP30aw_jCiL",
        "outputId": "6ebc75f3-f5a7-4ea0-847e-314c8daf7a37"
      },
      "execution_count": 13,
      "outputs": [
        {
          "output_type": "stream",
          "name": "stdout",
          "text": [
            "+--------+--------+-------+\n",
            "|forename| surname|podiums|\n",
            "+--------+--------+-------+\n",
            "|   Lewis|Hamilton|    200|\n",
            "+--------+--------+-------+\n",
            "\n"
          ]
        }
      ]
    },
    {
      "cell_type": "markdown",
      "source": [
        "4. Quais foram os circuitos que mais apareceram no calendário da F1 nos últimos 30 anos?"
      ],
      "metadata": {
        "id": "eqXGoK8pjV0-"
      }
    },
    {
      "cell_type": "code",
      "source": [
        "current_year = datetime.now().year\n",
        "\n",
        "last30years_races = df_races.filter(F.col('year') >= current_year - 30)\n",
        "\n",
        "join_df = last30years_races.alias('r') \\\n",
        "    .join(df_circuits.alias('c'), F.col('r.circuitId') == F.col('c.circuitId'))\n",
        "\n",
        "group_df = join_df.groupBy('c.name').agg(F.count('*').alias('appearances'))\n",
        "\n",
        "result_df = group_df.orderBy(F.col('appearances').desc())\n",
        "\n",
        "result_df.show()"
      ],
      "metadata": {
        "colab": {
          "base_uri": "https://localhost:8080/"
        },
        "id": "DQI45jCjjbyE",
        "outputId": "e1a7dcfd-b103-45e4-b022-f1034d9887ec"
      },
      "execution_count": 14,
      "outputs": [
        {
          "output_type": "stream",
          "name": "stdout",
          "text": [
            "+--------------------+-----------+\n",
            "|                name|appearances|\n",
            "+--------------------+-----------+\n",
            "| Silverstone Circuit|         32|\n",
            "|Autodromo Naziona...|         31|\n",
            "|Circuit de Barcel...|         31|\n",
            "|         Hungaroring|         31|\n",
            "|Autódromo José Ca...|         30|\n",
            "|   Circuit de Monaco|         30|\n",
            "|Circuit de Spa-Fr...|         29|\n",
            "|Circuit Gilles Vi...|         28|\n",
            "|Albert Park Grand...|         27|\n",
            "|      Suzuka Circuit|         27|\n",
            "|Bahrain Internati...|         21|\n",
            "|      Hockenheimring|         20|\n",
            "|       Red Bull Ring|         20|\n",
            "|Sepang Internatio...|         19|\n",
            "|Autodromo Enzo e ...|         17|\n",
            "|Shanghai Internat...|         17|\n",
            "|         Nürburgring|         17|\n",
            "|  Yas Marina Circuit|         16|\n",
            "|Circuit de Nevers...|         15|\n",
            "|Marina Bay Street...|         15|\n",
            "+--------------------+-----------+\n",
            "only showing top 20 rows\n",
            "\n"
          ]
        }
      ]
    },
    {
      "cell_type": "markdown",
      "source": [
        "5. Qual a distribuição de pódios entre as equipes nos últimos 15 anos?"
      ],
      "metadata": {
        "id": "vMVH2XrGkOIg"
      }
    },
    {
      "cell_type": "code",
      "source": [
        "current_year = datetime.now().year\n",
        "\n",
        "last15years_races = df_races.filter(F.col('year') >= current_year - 15)\n",
        "\n",
        "join_df = df_results.alias('res') \\\n",
        "    .join(df_constructors.alias('c'), F.col('res.constructorId') == F.col('c.constructorId')) \\\n",
        "    .join(last15years_races.alias('r'), F.col('res.raceId') == F.col('r.raceId'))\n",
        "\n",
        "podium_df = join_df.filter(F.col('res.position') <= 3)\n",
        "\n",
        "group_df = podium_df.groupBy('c.name').agg(F.count('*').alias('podiums'))\n",
        "\n",
        "result_df = group_df.orderBy(F.col('podiums').desc())\n",
        "\n",
        "result_df.show()"
      ],
      "metadata": {
        "colab": {
          "base_uri": "https://localhost:8080/"
        },
        "id": "9ZKduoEqkR8Q",
        "outputId": "a936527e-ae82-4a0b-96f1-1bfebd6a6366"
      },
      "execution_count": 15,
      "outputs": [
        {
          "output_type": "stream",
          "name": "stdout",
          "text": [
            "+--------------+-------+\n",
            "|          name|podiums|\n",
            "+--------------+-------+\n",
            "|      Mercedes|    277|\n",
            "|      Red Bull|    274|\n",
            "|       Ferrari|    195|\n",
            "|       McLaren|     83|\n",
            "|      Lotus F1|     25|\n",
            "|      Williams|     17|\n",
            "|         Brawn|     15|\n",
            "|       Renault|      9|\n",
            "|  Aston Martin|      9|\n",
            "|   Force India|      6|\n",
            "|        Toyota|      5|\n",
            "|Alpine F1 Team|      4|\n",
            "|        Sauber|      4|\n",
            "|  Racing Point|      4|\n",
            "|    Toro Rosso|      2|\n",
            "|    BMW Sauber|      2|\n",
            "|    AlphaTauri|      2|\n",
            "+--------------+-------+\n",
            "\n"
          ]
        }
      ]
    }
  ]
}